{
 "cells": [
  {
   "cell_type": "markdown",
   "metadata": {},
   "source": [
    "![NASA](http://www.nasa.gov/sites/all/themes/custom/nasatwo/images/nasa-logo.svg)\n",
    "\n",
    "![SSAI](http://www.ssaihq.com/images/Logo-with-Company-Name-and-Slogan.png)\n",
    "\n",
    "<center><h1><font size=\"+3\">Fall 2018 Python Training</font></h1></center>\n",
    "\n",
    "---\n",
    "\n",
    "<center><h4>Langley Research Center - August 22, 2018</h4></center>"
   ]
  },
  {
   "cell_type": "markdown",
   "metadata": {},
   "source": [
    "# Installing Packages\n",
    "\n",
    "---\n",
    "\n",
    "We need to install a couple of packages used below before we can proceed.\n",
    "\n",
    "1. Quit Jupyter Notebook server so that when we restart, it will be able to use the new packages.\n",
    "2. From the command-line/Anaconda prompt, type the following: `conda install xarray netCDF4`  \n",
    "   You should be prompted whether to install or not, select 'Yes' and proceed.\n",
    "\n",
    "3. Restart Jupyter Notebook by typing `jupyter notebook`."
   ]
  },
  {
   "cell_type": "markdown",
   "metadata": {},
   "source": [
    "### SciPy\n",
    "\n",
    "---\n",
    "\n",
    "* Scientific Python package which uses NumPy.\n",
    "* Manipulating and visualizating data containing different scientific disciplines such as Linear Algebra, Signal Processing, Statistics, etc."
   ]
  },
  {
   "cell_type": "code",
   "execution_count": null,
   "metadata": {},
   "outputs": [],
   "source": [
    "# standard imports before scipy\n",
    "import numpy as np\n",
    "import matplotlib\n",
    "import matplotlib.pyplot as plt\n",
    "\n",
    "# show matplotlib plots within notebook\n",
    "%matplotlib inline"
   ]
  },
  {
   "cell_type": "markdown",
   "metadata": {},
   "source": [
    "The following packages are available in SciPy:\n",
    "\n",
    "<table>\n",
    "<tr> <td> <b> Subpackage </b></td> <td><b> Description </b></td></tr>\n",
    "<tr> <td>cluster</td> <td> \tClustering algorithms</td> </tr>\n",
    "<tr> <td>constants</td> <td> \tPhysical and mathematical constants</td> </tr>\n",
    "<tr> <td>fftpack</td> <td> \tFast Fourier Transform routines</td> </tr>\n",
    "<tr> <td>integrate</td> <td> \tIntegration and ordinary differential equation solvers</td> </tr>\n",
    "<tr> <td>interpolate</td> <td> \tInterpolation and smoothing splines</td> </tr>\n",
    "<tr> <td>io</td> <td> \tInput and Output</td> </tr>\n",
    "<tr> <td>linalg</td> <td> \tLinear algebra</td> </tr>\n",
    "<tr> <td>ndimage</td> <td> \tN-dimensional image processing</td> </tr>\n",
    "<tr> <td>odr</td> <td> \tOrthogonal distance regression</td> </tr>\n",
    "<tr> <td>optimize</td> <td> \tOptimization and root-finding routines</td> </tr>\n",
    "<tr> <td>signal</td> <td> \tSignal processing</td> </tr>\n",
    "<tr> <td>sparse</td> <td> \tSparse matrices and associated routines</td> </tr>\n",
    "<tr> <td>spatial</td> <td> \tSpatial data structures and algorithms</td> </tr>\n",
    "<tr> <td>special</td> <td> \tSpecial functions</td> </tr>\n",
    "<tr> <td>stats</td> <td> \tStatistical distributions and functions</td> </tr>\n",
    "<tr> <td>weave</td> <td> \tC/C++ integration</td> </tr>\n",
    "</table>"
   ]
  },
  {
   "cell_type": "code",
   "execution_count": null,
   "metadata": {},
   "outputs": [],
   "source": [
    "from scipy import interpolate\n",
    "plt.figure(figsize=(10,8))\n",
    "\n",
    "# mgrid returns a dense multi-dimensional meshgrid\n",
    "x, y = np.mgrid[-1:1:15j, -1:1:15j]\n",
    "z = (x + y) * np.exp(-6.0 * (x**2 + y**2))\n",
    "plt.subplot(2, 1, 1)\n",
    "plt.pcolor(x, y, z, edgecolor='k')\n",
    "plt.colorbar()\n",
    "plt.title('Sparsely sampled function.')\n",
    "\n",
    "# Interpolate function over a new 30x30 grid\n",
    "x_, y_ = np.mgrid[-1:1:30j, -1:1:30j]\n",
    "\n",
    "# find bivariate B-spline representation of a surface\n",
    "bspine = interpolate.bisplrep(x, y, z, s=0) # smoothing factor=0\n",
    "\n",
    "# evaluate bivariate B-spline\n",
    "# here bspine variable represents a tuple containing knot locations,\n",
    "# coefficients, and degree of spine\n",
    "z_ = interpolate.bisplev(x_[:, 0], y_[0, :], bspine)\n",
    "\n",
    "plt.subplot(2, 1, 2)\n",
    "plt.pcolor(x_, y_, z_, edgecolor='k')\n",
    "plt.colorbar()\n",
    "plt.title('Interpolated function.')\n",
    "plt.tight_layout()"
   ]
  },
  {
   "cell_type": "markdown",
   "metadata": {},
   "source": [
    "SciPy can also be used to compute integrals, solve ODEs, solve the least-square problem, multi-dimensional regression, and FFTs (Fast Fourier Transforms). Here is an example of SciPy finding the maxima of the Bessel function J(x):"
   ]
  },
  {
   "cell_type": "code",
   "execution_count": null,
   "metadata": {},
   "outputs": [],
   "source": [
    "from scipy import special\n",
    "from scipy import optimize\n",
    "plt.figure(figsize=(10,8))\n",
    "\n",
    "x = np.arange(0, 10, 0.01)\n",
    "\n",
    "plt.subplot(2, 1, 1)\n",
    "for k in np.arange(0.5, 5.5):\n",
    "    y = special.jv(k, x)\n",
    "    plt.plot(x, y)\n",
    "plt.title('Bessel Functions')\n",
    "\n",
    "# repeat again, but plot also the maxima within the loop\n",
    "ax2 = plt.subplot(2, 1, 2)\n",
    "for k in np.arange(0.5, 5.5):\n",
    "    y = special.jv(k, x)\n",
    "    ax2.plot(x, y)\n",
    "    \n",
    "    # define a lambd function that returns the negative of\n",
    "    # the Bessel function's value for each x\n",
    "    f = lambda x: -special.jv(k, x)\n",
    "    \n",
    "    # finds minimum of f in the range 0 to 6\n",
    "    # we need minimum because we are using a negated Bessel function value\n",
    "    x_max = optimize.fminbound(f, 0, 5.5)\n",
    "    \n",
    "    plt.plot([x_max], [special.jv(k, x_max)], 'ro')\n",
    "plt.title('Bessel Functions and Associated Local Maxima')\n",
    "plt.tight_layout()"
   ]
  },
  {
   "cell_type": "markdown",
   "metadata": {},
   "source": [
    "### HDF File Types\n",
    "\n",
    "---\n",
    "\n",
    "* HDF-5 is a hierarchical data file type. These consists of groups of variables which have dimensions:\n",
    "  * Example: Temperature data is the variable within the Observations group and has dimensions lat, lon, and time.\n",
    "* netCDF4 is basically an HDF-5 file with only 1 group.\n",
    "  * Example: The temperature observation file for a single satellite with dimensions lat, lon, and time.\n",
    "\n",
    "__Note:__ NETCDF3 type files do not support groups."
   ]
  },
  {
   "cell_type": "code",
   "execution_count": null,
   "metadata": {},
   "outputs": [],
   "source": [
    "# need to install\n",
    "import netCDF4 as nc\n",
    "\n",
    "f = nc.Dataset('earth_data.nc4', 'w')\n",
    "f.close()"
   ]
  },
  {
   "cell_type": "code",
   "execution_count": null,
   "metadata": {},
   "outputs": [],
   "source": [
    "import logging"
   ]
  },
  {
   "cell_type": "code",
   "execution_count": null,
   "metadata": {},
   "outputs": [],
   "source": [
    "import h5py as h5\n",
    "\n",
    "# ignore the FutureWarning\n",
    "f = h5.File('earth_data.h5', 'w')\n",
    "f.close()"
   ]
  },
  {
   "cell_type": "markdown",
   "metadata": {},
   "source": [
    "You can quick look inside a netCDF file from the command-line:\n",
    "```bash\n",
    "ncdump -h filename.nc4\n",
    "```\n",
    "\n",
    "This would give you the names of variables and dimensions and file attributes."
   ]
  },
  {
   "cell_type": "markdown",
   "metadata": {},
   "source": [
    "##### Groups"
   ]
  },
  {
   "cell_type": "code",
   "execution_count": null,
   "metadata": {},
   "outputs": [],
   "source": [
    "# netCDF\n",
    "rootgrp = nc.Dataset('earth_data.nc4', 'a')\n",
    "fcstgrp = rootgrp.createGroup('forecasts')\n",
    "anlgrp = rootgrp.createGroup('analyses')\n",
    "\n",
    "# we can also create them like folders\n",
    "fcst1 = rootgrp.createGroup('/forecasts/model1')\n",
    "fcst2 = rootgrp.createGroup('/forecasts/model2')\n",
    "\n",
    "rootgrp.close()"
   ]
  },
  {
   "cell_type": "code",
   "execution_count": null,
   "metadata": {},
   "outputs": [],
   "source": [
    "# HDF\n",
    "rootgrp = h5.File('earth_data.h5', 'a')\n",
    "fcstgrp = rootgrp.create_group('forecasts')\n",
    "anlgrp = rootgrp.create_group('analyses')\n",
    "\n",
    "# can again also create like folders\n",
    "fcst1 = rootgrp.create_group('/forecasts/model1')\n",
    "fcst2 = rootgrp.create_group('/forecasts/model2')\n",
    "\n",
    "rootgrp.close()"
   ]
  },
  {
   "cell_type": "code",
   "execution_count": null,
   "metadata": {},
   "outputs": [],
   "source": [
    "# let's look inside these:\n",
    "f = nc.Dataset('earth_data.nc4', 'r')\n",
    "print(f)\n",
    "print('\\n')\n",
    "print(f.groups)\n",
    "f.close()\n",
    "\n",
    "print('\\n')\n",
    "\n",
    "f = h5.File('earth_data.h5', 'r')\n",
    "print(f)\n",
    "print(f.keys())\n",
    "f.close()"
   ]
  },
  {
   "cell_type": "markdown",
   "metadata": {},
   "source": [
    "##### Dimensions"
   ]
  },
  {
   "cell_type": "code",
   "execution_count": null,
   "metadata": {},
   "outputs": [],
   "source": [
    "# netCDF (netCDF3 can only have 1 unlimmited dimension)\n",
    "rootgrp = nc.Dataset('earth_data.nc4', 'a')\n",
    "level = rootgrp.createDimension('level', None) # or 0\n",
    "time = rootgrp.createDimension('time', None) # or 0\n",
    "lat = rootgrp.createDimension('lat', 73)\n",
    "lon = rootgrp.createDimension('lon', 144)\n",
    "rootgrp.close()"
   ]
  },
  {
   "cell_type": "markdown",
   "metadata": {},
   "source": [
    "HDF doesn't really have dimensions"
   ]
  },
  {
   "cell_type": "code",
   "execution_count": null,
   "metadata": {},
   "outputs": [],
   "source": [
    "# let's look inside these:\n",
    "f = nc.Dataset('earth_data.nc4', 'r')\n",
    "print(f.dimensions)\n",
    "f.close()"
   ]
  },
  {
   "cell_type": "markdown",
   "metadata": {},
   "source": [
    "##### Variables"
   ]
  },
  {
   "cell_type": "code",
   "execution_count": null,
   "metadata": {},
   "outputs": [],
   "source": [
    "import numpy as np\n",
    "from numpy.random import uniform"
   ]
  },
  {
   "cell_type": "code",
   "execution_count": null,
   "metadata": {},
   "outputs": [],
   "source": [
    "# netCDF\n",
    "rootgrp = nc.Dataset('earth_data.nc4', 'a')\n",
    "times = rootgrp.createVariable('time', 'f8', ('time',))\n",
    "levels = rootgrp.createVariable('level', 'i4', ('level',))\n",
    "latitudes = rootgrp.createVariable('latitude', 'f4', ('lat',))\n",
    "longitudes = rootgrp.createVariable('longitude', 'f4', ('lon',))\n",
    "\n",
    "temp = rootgrp.createVariable('temp', 'f4', ('time','level','lat','lon',))\n",
    "\n",
    "# write some sample data\n",
    "latitudes[:] = np.arange(-90, 91, 2.5)\n",
    "longitudes[:] = np.arange(-180, 180, 2.5)\n",
    "levels[:] = [1000., 850., 700., 500., 300., 250., 200., 150., 100., 50.]\n",
    "temp[0:5, 0:10, :, :] = uniform(size=(5,10,len(latitudes), len(longitudes)))\n",
    "rootgrp.close()"
   ]
  },
  {
   "cell_type": "code",
   "execution_count": null,
   "metadata": {},
   "outputs": [],
   "source": [
    "# HDF (has datasets)\n",
    "rootgrp = h5.File('earth_data.h5', 'a')\n",
    "# maxshape is only if you need unlimited dimensions\n",
    "temp = rootgrp.create_dataset('temp', (5,10, 73, 144,), maxshape=(None, None, 73, 144), dtype='f4')\n",
    "# here, you just assign data to temp\n",
    "temp[:] = uniform(size=(5, 10, 73, 144))\n",
    "rootgrp.close()"
   ]
  },
  {
   "cell_type": "code",
   "execution_count": null,
   "metadata": {},
   "outputs": [],
   "source": [
    "# let's look inside these:\n",
    "rootgrp = nc.Dataset('earth_data.nc4', 'a')\n",
    "print(rootgrp.variables.keys())\n",
    "print(rootgrp.variables['temp'][0,0,[0,1,2,3],[0,1,2,3]])\n",
    "rootgrp.close()\n",
    "\n",
    "rootgrp = h5.File('earth_data.h5', 'r')\n",
    "print(rootgrp['temp'])\n",
    "print(rootgrp['temp'][0, 0, 0:4, 0:4])\n",
    "rootgrp.close()"
   ]
  },
  {
   "cell_type": "markdown",
   "metadata": {},
   "source": [
    "##### Attributes"
   ]
  },
  {
   "cell_type": "code",
   "execution_count": null,
   "metadata": {},
   "outputs": [],
   "source": [
    "# netCDF\n",
    "rootgrp = nc.Dataset('earth_data.nc4', 'a')\n",
    "rootgrp.author = 'Brent Smith'\n",
    "rootgrp.close()"
   ]
  },
  {
   "cell_type": "code",
   "execution_count": null,
   "metadata": {},
   "outputs": [],
   "source": [
    "# HDF\n",
    "rootgrp = h5.File('earth_data.h5', 'a')\n",
    "rootgrp.attrs['author'] = 'Brent Smith'\n",
    "rootgrp.close()"
   ]
  },
  {
   "cell_type": "markdown",
   "metadata": {},
   "source": [
    "### xarray Package\n",
    "\n",
    "---\n",
    "\n",
    "* Uses the power of pandas (next lecture) for physical sciences applications (like Earth Science).\n",
    "* Can read netCDF4 files, plot data, and manipulate data."
   ]
  },
  {
   "cell_type": "code",
   "execution_count": 1,
   "metadata": {},
   "outputs": [],
   "source": [
    "import xarray as xr"
   ]
  },
  {
   "cell_type": "code",
   "execution_count": null,
   "metadata": {},
   "outputs": [],
   "source": [
    "ours = xr.open_dataset('earth_data.nc4')\n",
    "ours"
   ]
  },
  {
   "cell_type": "code",
   "execution_count": null,
   "metadata": {},
   "outputs": [],
   "source": [
    "ours.isel(time=0, level=0)['temp'].plot()"
   ]
  },
  {
   "cell_type": "code",
   "execution_count": null,
   "metadata": {},
   "outputs": [],
   "source": [
    "airtemps = xr.tutorial.load_dataset('air_temperature')\n",
    "air = airtemps.air - 273.15\n",
    "air.attrs = airtemps.air.attrs\n",
    "air2d = air.isel(time=500)\n",
    "air2d.plot()\n",
    "#airtemps"
   ]
  },
  {
   "cell_type": "code",
   "execution_count": null,
   "metadata": {},
   "outputs": [],
   "source": [
    "air2d.plot(cmap=plt.cm.Blues)"
   ]
  },
  {
   "cell_type": "code",
   "execution_count": 2,
   "metadata": {},
   "outputs": [
    {
     "data": {
      "text/plain": [
       "<xarray.Dataset>\n",
       "Dimensions:  (T: 1420, X: 1405, Y: 621)\n",
       "Coordinates:\n",
       "  * X        (X) float32 -125.0 -124.958336 -124.916664 -124.875 -124.833336 ...\n",
       "  * T        (T) float32 -779.5 -778.5 -777.5 -776.5 -775.5 -774.5 -773.5 ...\n",
       "  * Y        (Y) float32 49.916668 49.875 49.833336 49.791668 49.75 ...\n",
       "Data variables:\n",
       "    ppt      (T, Y, X) float64 ...\n",
       "    tdmean   (T, Y, X) float64 ...\n",
       "    tmax     (T, Y, X) float64 ...\n",
       "    tmin     (T, Y, X) float64 ...\n",
       "Attributes:\n",
       "    expires:      1370044800\n",
       "    Conventions:  IRIDL"
      ]
     },
     "execution_count": 2,
     "metadata": {},
     "output_type": "execute_result"
    }
   ],
   "source": [
    "# this uses a dataset through OpenDAP online\n",
    "# decode_times=False is due to the unexpected formatting of times\n",
    "remote_data = xr.open_dataset(\n",
    "    'http://iridl.ldeo.columbia.edu/SOURCES/.OSU/.PRISM/.monthly/dods',\n",
    "    decode_times=False\n",
    ")\n",
    "remote_data"
   ]
  },
  {
   "cell_type": "code",
   "execution_count": null,
   "metadata": {},
   "outputs": [],
   "source": [
    "# selects first 10 times, and every 3rd grid point\n",
    "tmax = remote_data['tmax'][:10, ::3, ::3]\n",
    "tmax"
   ]
  },
  {
   "cell_type": "code",
   "execution_count": null,
   "metadata": {},
   "outputs": [],
   "source": [
    "# select first time and plot\n",
    "remote_data['tmin'][:10, ::3, ::3][0].plot(aspect=2, size=5)"
   ]
  },
  {
   "cell_type": "code",
   "execution_count": null,
   "metadata": {},
   "outputs": [],
   "source": [
    "import matplotlib\n",
    "import matplotlib.pyplot as plt\n",
    "\n",
    "# show matplotlib plots within notebook\n",
    "%matplotlib inline\n",
    "\n",
    "fig, axes = plt.subplots(nrows=2)\n",
    "ours.isel(time=0, level=0)['temp'].plot(ax=axes[0])\n",
    "remote_data['tmax'][:10, ::3, ::3][0].plot(ax=axes[1])\n",
    "plt.tight_layout()"
   ]
  }
 ],
 "metadata": {
  "kernelspec": {
   "display_name": "Python 3",
   "language": "python",
   "name": "python3"
  },
  "language_info": {
   "codemirror_mode": {
    "name": "ipython",
    "version": 3
   },
   "file_extension": ".py",
   "mimetype": "text/x-python",
   "name": "python",
   "nbconvert_exporter": "python",
   "pygments_lexer": "ipython3",
   "version": "3.6.5"
  }
 },
 "nbformat": 4,
 "nbformat_minor": 2
}
