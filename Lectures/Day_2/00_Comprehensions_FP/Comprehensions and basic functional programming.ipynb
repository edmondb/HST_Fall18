{
 "cells": [
  {
   "cell_type": "code",
   "execution_count": null,
   "metadata": {},
   "outputs": [],
   "source": [
    "from IPython.core.interactiveshell import InteractiveShell\n",
    "InteractiveShell.ast_node_interactivity = \"all\""
   ]
  },
  {
   "cell_type": "markdown",
   "metadata": {},
   "source": [
    "![NASA](http://www.nasa.gov/sites/all/themes/custom/nasatwo/images/nasa-logo.svg)\n",
    "\n",
    "![SSAI](http://www.ssaihq.com/images/Logo-with-Company-Name-and-Slogan.png)\n",
    "\n",
    "<center><h1><font size=\"+3\">Fall 2018 Python Training</font></h1></center>\n",
    "\n",
    "---\n",
    "\n",
    "<center><h4>Langley Research Center - August 22, 2018</h4></center>"
   ]
  },
  {
   "cell_type": "markdown",
   "metadata": {},
   "source": [
    "# List comprehensions and functional programming"
   ]
  },
  {
   "cell_type": "markdown",
   "metadata": {},
   "source": [
    "## List comprehensions\n",
    "List comprehensions are a way to *concisely* transform one list into another. "
   ]
  },
  {
   "cell_type": "markdown",
   "metadata": {},
   "source": [
    "List comprehensions are defined within square brackets, __[ ]__, to help you remember that the\n",
    "result of a *comprehension* is a list."
   ]
  },
  {
   "cell_type": "markdown",
   "metadata": {},
   "source": [
    "General syntax:\n",
    "```python\n",
    "[<expression> for <item> in <sequence> if <condition>]\n",
    "```"
   ]
  },
  {
   "cell_type": "markdown",
   "metadata": {},
   "source": [
    "Examples:"
   ]
  },
  {
   "cell_type": "code",
   "execution_count": null,
   "metadata": {},
   "outputs": [],
   "source": [
    "temperatures = [88, 94, 97, 89, 101, 98, 102, 95, 100]"
   ]
  },
  {
   "cell_type": "markdown",
   "metadata": {},
   "source": [
    "Create new list with temperatures >= 100F"
   ]
  },
  {
   "cell_type": "code",
   "execution_count": null,
   "metadata": {},
   "outputs": [],
   "source": [
    "hot_temps = []\n",
    "for t in temperatures:\n",
    "    if t >= 100:\n",
    "        hot_temps.append(t)\n",
    "hot_temps"
   ]
  },
  {
   "cell_type": "code",
   "execution_count": null,
   "metadata": {},
   "outputs": [],
   "source": [
    "hot_temps = [t for t in temperatures if t >= 100]\n",
    "hot_temps"
   ]
  },
  {
   "cell_type": "markdown",
   "metadata": {},
   "source": [
    "Unconditional comprehensions:"
   ]
  },
  {
   "cell_type": "code",
   "execution_count": null,
   "metadata": {},
   "outputs": [],
   "source": [
    "cubes = list()\n",
    "for x in range(1,10):\n",
    "    cubes.append(x**3)\n",
    "cubes"
   ]
  },
  {
   "cell_type": "code",
   "execution_count": null,
   "metadata": {
    "scrolled": true
   },
   "outputs": [],
   "source": [
    "cubes = [x**3 for x in range(1,10)]\n",
    "cubes"
   ]
  },
  {
   "cell_type": "markdown",
   "metadata": {},
   "source": [
    "Nested loops:"
   ]
  },
  {
   "cell_type": "code",
   "execution_count": null,
   "metadata": {},
   "outputs": [],
   "source": [
    "matrix = [[1,2,3],[4,5,6]]\n",
    "matrix\n",
    "flattened = []\n",
    "for row in matrix:\n",
    "    for n in row:\n",
    "        flattened.append(n)\n",
    "flattened"
   ]
  },
  {
   "cell_type": "code",
   "execution_count": null,
   "metadata": {},
   "outputs": [],
   "source": [
    "flattened = [n for row in matrix for n in row]\n",
    "flattened"
   ]
  },
  {
   "cell_type": "markdown",
   "metadata": {},
   "source": [
    "<font color='blue'>Exercise</font>:\n",
    "Given a list of temperatures in degrees F\n",
    "```cython\n",
    "temperatures = [88, 94, 97, 89, 101, 98, 102, 95, 100]\n",
    "```\n",
    "Use \"list comprehensions\" to compute and print the given temperatures in Celsius (remember C = (F - 32) * 5/9 )"
   ]
  },
  {
   "cell_type": "markdown",
   "metadata": {},
   "source": [
    "## Basic functional programming"
   ]
  },
  {
   "cell_type": "markdown",
   "metadata": {},
   "source": [
    "The concepts behind functional programming requires functions to be __stateless__, and rely only on their given inputs to produce an output."
   ]
  },
  {
   "cell_type": "code",
   "execution_count": null,
   "metadata": {},
   "outputs": [],
   "source": [
    "\n",
    "a = 0\n",
    "def impure_increment():\n",
    "    global a\n",
    "    a += 1\n",
    "\n",
    "def pute_increment(a):\n",
    "    return a + 1\n",
    "\n",
    "def read_and_print(filename):\n",
    "    with open(filename) as f:\n",
    "        # Side effect of opening a\n",
    "        # file outside of function.\n",
    "        data = [line for line in f]\n",
    "    for line in data:\n",
    "        # Call out to the operating system\n",
    "        # \"print\" method (side effect).\n",
    "        print(line)\n"
   ]
  },
  {
   "cell_type": "markdown",
   "metadata": {},
   "source": [
    "Functional code is characterized by one thing: the absence of __side effects__. I.e., it doesn’t rely on data outside the current function, and it doesn’t change data that exists outside the current function. "
   ]
  },
  {
   "cell_type": "markdown",
   "metadata": {},
   "source": [
    "## Lambda, Map, Filter and Reduce\n",
    "Their use leads to programming that is more compact and at a higher level of abstraction"
   ]
  },
  {
   "cell_type": "markdown",
   "metadata": {},
   "source": [
    "### Lambda functions\n",
    "Use the __lambda__ operator and allow us write __anonymous__ functions called __lamdba__ functions. A __lambda__ function is limited to one expression and does not use def or return keywords. Python __lambda__ expressions are unfortunately syntactically limited, to functions that can be written with just a return statement and nothing else (no if statements, no for loops, no local variables). "
   ]
  },
  {
   "cell_type": "code",
   "execution_count": null,
   "metadata": {},
   "outputs": [],
   "source": [
    "lambda argument_list: expression  # similar to F (x) = y\n",
    "\n",
    "# The argument list consists of a comma separated list of arguments and \n",
    "# the expression using these arguments MUST return a value"
   ]
  },
  {
   "cell_type": "markdown",
   "metadata": {},
   "source": [
    "### Example: add two numbers"
   ]
  },
  {
   "cell_type": "code",
   "execution_count": null,
   "metadata": {},
   "outputs": [],
   "source": [
    "def old_add(x, y):\n",
    "    return x + y\n",
    "old_add(2, 3)"
   ]
  },
  {
   "cell_type": "code",
   "execution_count": null,
   "metadata": {},
   "outputs": [],
   "source": [
    "new_add = lambda x, y : x + y   # Note there are two \"arguments\", x and y\n",
    "new_add(2, 3)"
   ]
  },
  {
   "cell_type": "markdown",
   "metadata": {},
   "source": [
    "If no name is assigned then it is called an __anonymous function__\n",
    "Anonymous functions are extremely helpful, especially when using them as an input for another function. "
   ]
  },
  {
   "cell_type": "code",
   "execution_count": null,
   "metadata": {},
   "outputs": [],
   "source": [
    "unsorted = [('b', 6), ('a', 10), ('d', 0), ('c', 4)]\n",
    "unsorted\n",
    "# Sort on the second tuple value (the integer).\n",
    "sorted(unsorted, key=lambda x: x[1])"
   ]
  },
  {
   "cell_type": "markdown",
   "metadata": {},
   "source": [
    "### Example: Maximum of two numbers\n"
   ]
  },
  {
   "cell_type": "code",
   "execution_count": null,
   "metadata": {},
   "outputs": [],
   "source": [
    "def old_max(x, y):\n",
    "    if x > y:\n",
    "        return x\n",
    "    else:\n",
    "        return y\n",
    "old_max(2, 3)"
   ]
  },
  {
   "cell_type": "markdown",
   "metadata": {},
   "source": [
    "Introducing the ternary operator\n",
    "```cython\n",
    "a if condition else b\n",
    "```"
   ]
  },
  {
   "cell_type": "code",
   "execution_count": null,
   "metadata": {},
   "outputs": [],
   "source": [
    "# Example:\n",
    "\n",
    "a = -4\n",
    "b = 5\n",
    "a if a <= b else b"
   ]
  },
  {
   "cell_type": "markdown",
   "metadata": {},
   "source": [
    "<font color='blue'>Exercise</font>:\n",
    "Use lambda functions to determine the maximum between any two positive integers. Hint: use the ternary operator."
   ]
  },
  {
   "cell_type": "markdown",
   "metadata": {},
   "source": [
    "### Lambda as a macro"
   ]
  },
  {
   "cell_type": "code",
   "execution_count": null,
   "metadata": {
    "scrolled": true
   },
   "outputs": [],
   "source": [
    "line1 = \"lambda functions  \"\n",
    "line2 = \"  should be short.\"\n",
    "\n",
    "# Use \"loud\" as an alias for two methods.\n",
    "loud = lambda s: s.strip().upper()\n",
    "\n",
    "line1b = loud(line1)\n",
    "line2b = loud(line2)\n",
    "\n",
    "print(line1b)\n",
    "print(line2b)"
   ]
  },
  {
   "cell_type": "markdown",
   "metadata": {},
   "source": [
    "### Map"
   ]
  },
  {
   "cell_type": "markdown",
   "metadata": {},
   "source": [
    "map() is a function with two arguments: "
   ]
  },
  {
   "cell_type": "markdown",
   "metadata": {
    "collapsed": true
   },
   "source": [
    "```cython\n",
    "result = map(function, sequence)\n",
    "```"
   ]
  },
  {
   "cell_type": "markdown",
   "metadata": {},
   "source": [
    "* apply the same function to each element of a sequence\n",
    "* return the modified list"
   ]
  },
  {
   "cell_type": "raw",
   "metadata": {},
   "source": [
    "Function g(), List [u,v,w],   --->  map() ---> New list [g(u), g(v), g(w)]"
   ]
  },
  {
   "cell_type": "code",
   "execution_count": null,
   "metadata": {
    "scrolled": true
   },
   "outputs": [],
   "source": [
    "from math import sqrt\n",
    "out = map(sqrt, [1, 4, 9, 16, 25, 36, 49]) # Is this unusual?\n",
    "print(type(out))\n",
    "# Note that it's important to convert the returned map object to a list object.\n",
    "print(list(out)) "
   ]
  },
  {
   "cell_type": "markdown",
   "metadata": {},
   "source": [
    "<font color='blue'>Exercise</font>:\n",
    "Use map to add 10 to every element in the list \n",
    "```cython\n",
    "values = [1, 2, 3, 4, 5]\n",
    "```"
   ]
  },
  {
   "cell_type": "markdown",
   "metadata": {},
   "source": [
    "Example: combining __map__ and __lambda__"
   ]
  },
  {
   "cell_type": "code",
   "execution_count": null,
   "metadata": {},
   "outputs": [],
   "source": [
    "# We want to compute the power of two each element in a list of numbers. So we could define a function:\n",
    "\n",
    "def powerOfTwo(k):\n",
    "    return 2**k\n",
    "powerOfTwo(5)"
   ]
  },
  {
   "cell_type": "code",
   "execution_count": null,
   "metadata": {},
   "outputs": [],
   "source": [
    "# and we can then use map\n",
    "num_list = [-2, -1, 1, 2, 3, 4, 5]\n",
    "out = map(powerOfTwo, num_list)\n",
    "print(list(out))"
   ]
  },
  {
   "cell_type": "markdown",
   "metadata": {},
   "source": [
    "Since we only need the function in one place, we can use a lambda function:"
   ]
  },
  {
   "cell_type": "code",
   "execution_count": null,
   "metadata": {
    "scrolled": true
   },
   "outputs": [],
   "source": [
    "(lambda k: 2**k)(5)"
   ]
  },
  {
   "cell_type": "code",
   "execution_count": null,
   "metadata": {},
   "outputs": [],
   "source": [
    "out = map(lambda k: 2**k, num_list)\n",
    "print(list(out))"
   ]
  },
  {
   "cell_type": "code",
   "execution_count": null,
   "metadata": {},
   "outputs": [],
   "source": [
    "# map() can be applied to more than one list. \n",
    "# The lists must have the same length.\n",
    "a = [1,2,3,4]\n",
    "b = [17,12,11,10]\n",
    "c = [-1,-4,5,9]\n",
    "out = map(lambda x,y:x+y, a,b)\n",
    "print(list(out))\n",
    "out = map(lambda x,y,z:x+y+z, a,b,c)\n",
    "print(list(out))\n",
    "out = map(lambda x,y,z:x+y-z, a,b,c)\n",
    "print(list(out))"
   ]
  },
  {
   "cell_type": "markdown",
   "metadata": {},
   "source": [
    "What is the output of\n",
    "```cython\n",
    "map(len, [ [1], [2], [3] ])\n",
    "map(len, [1, 2, 3])\n",
    "map(lambda x: x.split(' '), 'a b c')\n",
    "```"
   ]
  },
  {
   "cell_type": "raw",
   "metadata": {},
   "source": [
    "Ans. #1\n",
    "[ [1], [2], [3] ] is mapped to [len([1]), len([2]), len([3])] which is [1, 1, 1]."
   ]
  },
  {
   "cell_type": "raw",
   "metadata": {},
   "source": [
    "Ans #2\n",
    "We can’t call len on the int elements of the list, so: TypeError: object of type 'int' has no len()."
   ]
  },
  {
   "cell_type": "raw",
   "metadata": {},
   "source": [
    "Ans #3\n",
    "Python strings are iterable, we obtain each character at a time. So this is the same as:\n",
    "\n",
    "map(lambda x: x.split(' '), ['a', ' ', 'b', ' ', 'c'])\n",
    "\n",
    "which has the value: [ ['a'], ['', ''], ['b'], ['', ''], ['c'] ], which we would only guess correctly by examining the spec of split."
   ]
  },
  {
   "cell_type": "markdown",
   "metadata": {},
   "source": [
    "### Filter"
   ]
  },
  {
   "cell_type": "markdown",
   "metadata": {},
   "source": [
    "filter() is a function with two arguments: "
   ]
  },
  {
   "cell_type": "markdown",
   "metadata": {
    "collapsed": true
   },
   "source": [
    "```cython\n",
    "result = filter(condition, sequence)\n",
    "```"
   ]
  },
  {
   "cell_type": "markdown",
   "metadata": {},
   "source": [
    "* filters elements out of a sequence\n",
    "* return the filtered list"
   ]
  },
  {
   "cell_type": "raw",
   "metadata": {},
   "source": [
    "Condition C(), List [x,y,z]  --->  filter() ---> New list[x,z] (that satisfies condition)"
   ]
  },
  {
   "cell_type": "code",
   "execution_count": null,
   "metadata": {},
   "outputs": [],
   "source": [
    "# filter odd or even values from a list:\n",
    "values = [1, 2, 3, 4, 5, 6, 7, 8, 9, 10]\n",
    "\n",
    "# Note: We convert the returned filter object to\n",
    "# a list data structure.\n",
    "even = list(filter(lambda x: x % 2 == 0, values))\n",
    "odd = list(filter(lambda x: x % 2 == 1, values))\n",
    "\n",
    "print(even)\n",
    "print(odd)"
   ]
  },
  {
   "cell_type": "code",
   "execution_count": null,
   "metadata": {},
   "outputs": [],
   "source": [
    "numbers = (-2,-1,0,1,2,3,4,5,6)\n",
    "\n",
    "# Print all numbers greater than 2\n",
    "gt_two = []\n",
    "for x in numbers:\n",
    "    if x > 2:\n",
    "         gt_two.append(x)\n",
    "gt_two"
   ]
  },
  {
   "cell_type": "code",
   "execution_count": null,
   "metadata": {},
   "outputs": [],
   "source": [
    "out = filter(lambda x: x>2, numbers)\n",
    "print(list(out))"
   ]
  },
  {
   "cell_type": "markdown",
   "metadata": {},
   "source": [
    "<font color='blue'>Exercise</font>:\n",
    "\n",
    "Given\n",
    "```cython\n",
    "x1 = {'x': 1}\n",
    "y2 = {'y': 2}\n",
    "x3_y4 = {'x': 3, 'y': 4}\n",
    "```\n",
    "What is the result of \n",
    "```cython\n",
    "filter(lambda d: 'x' in d.keys(), [ x1, y2, x3_y4 ])\n",
    "```\n",
    "What is the result of \n",
    "```cython\n",
    "filter(str.isalpha, [ 'a', '1', 'b', '2' ])\n",
    "```\n",
    "\n",
    "What is the result of \n",
    "```cython\n",
    "filter(str.swapcase, [ 'a', '1', 'b', '2' ])\n",
    "```"
   ]
  },
  {
   "cell_type": "markdown",
   "metadata": {},
   "source": [
    "### Reduce"
   ]
  },
  {
   "cell_type": "markdown",
   "metadata": {},
   "source": [
    "reduce() is a function with two arguments: "
   ]
  },
  {
   "cell_type": "markdown",
   "metadata": {
    "collapsed": true
   },
   "source": [
    "```cython\n",
    "result = reduce(function, sequence, init)\n",
    "```"
   ]
  },
  {
   "cell_type": "markdown",
   "metadata": {},
   "source": [
    "* applies the same operation to elements of a sequence\n",
    "* uses result of operation as first parameter of next operation\n",
    "* returns a single value - not a list\n",
    "* initial value is optional, and if you omit it, reduce uses the first element of the list as its initial value."
   ]
  },
  {
   "cell_type": "raw",
   "metadata": {},
   "source": [
    "function f(), List [m,n,p]  --->  reduce() ---> f(f(m,n),p)"
   ]
  },
  {
   "cell_type": "code",
   "execution_count": null,
   "metadata": {},
   "outputs": [],
   "source": [
    "from functools import reduce  # moved to functools module in Python 3.x"
   ]
  },
  {
   "cell_type": "code",
   "execution_count": null,
   "metadata": {},
   "outputs": [],
   "source": [
    "reduce(lambda x,y: x+y, [1, 2, 3], 0)"
   ]
  },
  {
   "cell_type": "code",
   "execution_count": null,
   "metadata": {},
   "outputs": [],
   "source": [
    "numbers = [1,2,3,4,5]\n",
    "\n",
    "# Mutiply a list of numbers (i.e. like the factorial function)\n",
    "def mult(lst):\n",
    "    prod = lst[0]\n",
    "    for i in range(1, len(lst)):\n",
    "        prod *= lst[i]\n",
    "    return prod\n",
    "mult(numbers)"
   ]
  },
  {
   "cell_type": "code",
   "execution_count": null,
   "metadata": {},
   "outputs": [],
   "source": [
    "reduce(lambda x,y: x*y, numbers)"
   ]
  },
  {
   "cell_type": "code",
   "execution_count": null,
   "metadata": {},
   "outputs": [],
   "source": [
    "vals = [47.0, 11, 42.05, 102.11, 13.75]\n",
    "\n",
    "# Determining the maximum of a list of numerical values by using reduce\n",
    "f = lambda a,b: a if (a > b) else b\n",
    "M = reduce(f, vals)\n",
    "M"
   ]
  },
  {
   "cell_type": "markdown",
   "metadata": {},
   "source": [
    "<font color='blue'>Exercise</font>:\n",
    "\n",
    "Use the reduce function to calculate the sum of the numbers from 1 to n, $\\sum_{i=1}^n i$. Try n=100."
   ]
  },
  {
   "cell_type": "markdown",
   "metadata": {},
   "source": [
    "__Rewriting with list comprehensions__\n",
    "\n",
    "Because we eventually convert to lists, we should rewrite the map() and filter() functions using list comprehension instead. This is the more pythonic way of writing them, as we are taking advantage of the Python syntax for making lists. Here's how you could translate the previous examples of map() and filter() to list comprehensions:"
   ]
  },
  {
   "cell_type": "code",
   "execution_count": null,
   "metadata": {},
   "outputs": [],
   "source": [
    "values = [1, 2, 3, 4, 5, 6, 7, 8, 9, 10]\n",
    "\n",
    "# Map.\n",
    "add_10 = [x + 10 for x in values]\n",
    "print(add_10)\n",
    "\n",
    "# Filter.\n",
    "even = [x for x in values if x % 2 == 0]\n",
    "print(even)\n"
   ]
  },
  {
   "cell_type": "markdown",
   "metadata": {},
   "source": [
    "### Why functional programming? \n",
    "\n",
    "Map/filter/reduce can often make code shorter and simpler, and allow the programmer to focus on the heart of the computation rather than on the details of loops, branches, and control flow.\n",
    "\n",
    "By arranging our program in terms of map, filter, and reduce, and in particular using immutable datatypes and pure functions (functions that do not mutate data) as much as possible, we’ve created more opportunities for safe concurrency. Maps and filters using pure functions over immutable datatypes are instantly parallelizable — invocations of the function on different elements of the sequence can be run in different threads, on different processors, even on different machines, and the result will still be the same. "
   ]
  }
 ],
 "metadata": {
  "anaconda-cloud": {},
  "kernelspec": {
   "display_name": "Python 3",
   "language": "python",
   "name": "python3"
  },
  "language_info": {
   "codemirror_mode": {
    "name": "ipython",
    "version": 3
   },
   "file_extension": ".py",
   "mimetype": "text/x-python",
   "name": "python",
   "nbconvert_exporter": "python",
   "pygments_lexer": "ipython3",
   "version": "3.6.3"
  }
 },
 "nbformat": 4,
 "nbformat_minor": 1
}
