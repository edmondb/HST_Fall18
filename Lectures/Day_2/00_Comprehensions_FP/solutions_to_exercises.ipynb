{
 "cells": [
  {
   "cell_type": "markdown",
   "metadata": {},
   "source": [
    "<font color='blue'>Exercise</font>:\n",
    "Given a list of temperatures in degrees F\n",
    "```cython\n",
    "temperatures = [88, 94, 97, 89, 101, 98, 102, 95, 100]\n",
    "```\n",
    "Use \"comprehensions\" to compute and print temperatures in Celsius (remember C = (F - 32) * 5/9 )"
   ]
  },
  {
   "cell_type": "code",
   "execution_count": 4,
   "metadata": {},
   "outputs": [
    {
     "name": "stdout",
     "output_type": "stream",
     "text": [
      "[31.111111111111114, 34.44444444444444, 36.111111111111114, 31.666666666666668, 38.333333333333336, 36.66666666666667, 38.88888888888889, 35.0, 37.77777777777778]\n"
     ]
    }
   ],
   "source": [
    "temperatures = [88, 94, 97, 89, 101, 98, 102, 95, 100]\n",
    "t_in_c = [(t-32)*(5/9) for t in temperatures]\n",
    "print ('{}'.format(t_in_c))"
   ]
  },
  {
   "cell_type": "markdown",
   "metadata": {},
   "source": [
    "<font color='blue'>Exercise</font>:\n",
    "Use lambda functions to determie the maximum between any two positive integers. Hint: use the ternary operator."
   ]
  },
  {
   "cell_type": "code",
   "execution_count": 5,
   "metadata": {},
   "outputs": [
    {
     "data": {
      "text/plain": [
       "3"
      ]
     },
     "execution_count": 5,
     "metadata": {},
     "output_type": "execute_result"
    }
   ],
   "source": [
    "new_max = lambda x, y : x if x > y else y\n",
    "new_max(2, 3)"
   ]
  },
  {
   "cell_type": "markdown",
   "metadata": {},
   "source": [
    "<font color='blue'>Exercise</font>:\n",
    "Use map to add 10 to every element in the list \n",
    "```cython\n",
    "values = [1, 2, 3, 4, 5]\n",
    "```"
   ]
  },
  {
   "cell_type": "code",
   "execution_count": 12,
   "metadata": {},
   "outputs": [
    {
     "name": "stdout",
     "output_type": "stream",
     "text": [
      "[11, 12, 13, 14, 15]\n"
     ]
    }
   ],
   "source": [
    "values = [1, 2, 3, 4, 5]\n",
    "add_10 = list(map(lambda x: x + 10, values))\n",
    "print(add_10)"
   ]
  },
  {
   "cell_type": "markdown",
   "metadata": {},
   "source": [
    "What is the output of\n",
    "```cython\n",
    "map(len, [ [1], [2], [3] ])\n",
    "map(len, [1, 2, 3])\n",
    "map(lambda x: x.split(' '), 'a b c')\n",
    "```"
   ]
  },
  {
   "cell_type": "raw",
   "metadata": {},
   "source": [
    "Ans. #1\n",
    "[ [1], [2], [3] ] is mapped to [len([1]), len([2]), len([3])] which is [1, 1, 1]."
   ]
  },
  {
   "cell_type": "raw",
   "metadata": {},
   "source": [
    "Ans #2\n",
    "We can’t call len on the int elements of the list, so: TypeError: object of type 'int' has no len()."
   ]
  },
  {
   "cell_type": "raw",
   "metadata": {},
   "source": [
    "Ans #3\n",
    "Python strings are iterable, we obtain each character at a time. So this is the same as:\n",
    "\n",
    "map(lambda x: x.split(' '), ['a', ' ', 'b', ' ', 'c'])\n",
    "\n",
    "which has the value: [ ['a'], ['', ''], ['b'], ['', ''], ['c'] ], which we would only guess correctly by examining the spec of split."
   ]
  },
  {
   "cell_type": "markdown",
   "metadata": {},
   "source": [
    "<font color='blue'>Exercise</font>:\n",
    "\n",
    "Given\n",
    "```cython\n",
    "x1 = {'x': 1}\n",
    "y2 = {'y': 2}\n",
    "x3_y4 = {'x': 3, 'y': 4}\n",
    "```\n",
    "What is the result of \n",
    "```cython\n",
    "filter(lambda d: 'x' in d.keys(), [ x1, y2, x3_y4 ])\n",
    "```\n",
    "What is the result of \n",
    "```cython\n",
    "filter(str.isalpha, [ 'a', '1', 'b', '2' ])\n",
    "```\n",
    "\n",
    "What is the result of \n",
    "```cython\n",
    "filter(str.swapcase, [ 'a', '1', 'b', '2' ])\n",
    "```"
   ]
  },
  {
   "cell_type": "code",
   "execution_count": 7,
   "metadata": {},
   "outputs": [
    {
     "name": "stdout",
     "output_type": "stream",
     "text": [
      "[{'x': 1}, {'x': 3, 'y': 4}]\n",
      "['a', 'b']\n",
      "['a', '1', 'b', '2']\n"
     ]
    }
   ],
   "source": [
    "x1 = {'x': 1}\n",
    "y2 = {'y': 2}\n",
    "x3_y4 = {'x': 3, 'y': 4}\n",
    "a = filter(lambda d: 'x' in d.keys(), [ x1, y2, x3_y4 ])\n",
    "b = filter(str.isalpha, [ 'a', '1', 'b', '2' ])\n",
    "c = filter(str.swapcase, [ 'a', '1', 'b', '2' ])\n",
    "print(list(a))\n",
    "print(list(b))\n",
    "print(list(c))"
   ]
  },
  {
   "cell_type": "markdown",
   "metadata": {},
   "source": [
    "<font color='blue'>Exercise</font>:\n",
    "\n",
    "Use the reduce function to calculate the sum of the numbers from 1 to n, $\\sum_{i=1}^n i$. Try n=100."
   ]
  },
  {
   "cell_type": "code",
   "execution_count": 9,
   "metadata": {},
   "outputs": [
    {
     "data": {
      "text/plain": [
       "5050"
      ]
     },
     "execution_count": 9,
     "metadata": {},
     "output_type": "execute_result"
    }
   ],
   "source": [
    "from functools import reduce\n",
    "reduce(lambda x, y: x + y, range(101))"
   ]
  },
  {
   "cell_type": "code",
   "execution_count": 11,
   "metadata": {},
   "outputs": [
    {
     "name": "stdout",
     "output_type": "stream",
     "text": [
      "5050\n"
     ]
    }
   ],
   "source": [
    "# Alternative solution\n",
    "\n",
    "a = [x for x in range(1,101)]\n",
    "summed = sum(a[0:len(a)])\n",
    "print(summed)"
   ]
  },
  {
   "cell_type": "code",
   "execution_count": null,
   "metadata": {},
   "outputs": [],
   "source": []
  }
 ],
 "metadata": {
  "anaconda-cloud": {},
  "kernelspec": {
   "display_name": "Python 3",
   "language": "python",
   "name": "python3"
  },
  "language_info": {
   "codemirror_mode": {
    "name": "ipython",
    "version": 3
   },
   "file_extension": ".py",
   "mimetype": "text/x-python",
   "name": "python",
   "nbconvert_exporter": "python",
   "pygments_lexer": "ipython3",
   "version": "3.6.3"
  }
 },
 "nbformat": 4,
 "nbformat_minor": 1
}
