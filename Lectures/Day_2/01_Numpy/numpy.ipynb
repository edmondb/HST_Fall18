{
 "cells": [
  {
   "cell_type": "markdown",
   "metadata": {},
   "source": [
    "![NASA](http://www.nasa.gov/sites/all/themes/custom/nasatwo/images/nasa-logo.svg)\n",
    "\n",
    "![SSAI](http://www.ssaihq.com/images/Logo-with-Company-Name-and-Slogan.png)\n",
    "\n",
    "<center><h1><font size=\"+3\">Fall 2018 Python Training</font></h1></center>\n",
    "\n",
    "---\n",
    "\n",
    "<center><h4>Langley Research Center - August 22, 2018</h4></center>"
   ]
  },
  {
   "cell_type": "markdown",
   "metadata": {},
   "source": [
    "# What is Numpy?\n",
    "\n",
    "---\n",
    "\n",
    "* Efficient array computing in Python.\n",
    "* Allows the creation of arrays.\n",
    "* Allows efficient indexing/slicing of arrays\n",
    "* Provides mathematical functions that operate on an entire array.\n",
    "* The critical thing to know is that Python for loops are very slow! One should try to use array-operations as much as possible."
   ]
  },
  {
   "cell_type": "code",
   "execution_count": null,
   "metadata": {},
   "outputs": [],
   "source": [
    "import numpy as np"
   ]
  },
  {
   "cell_type": "markdown",
   "metadata": {},
   "source": [
    "* The primary building block of the numpy module is the class \"ndarray\".\n",
    "* A ndarray object represents a multidimensional, homogeneous array of fixed-sized items.\n",
    "* An associated date-type object describes the format of each element in the array.\n",
    "* An ndarray object is (almost) never instantiated directly, but instead using a method that returns an instance of the class."
   ]
  },
  {
   "cell_type": "markdown",
   "metadata": {},
   "source": [
    "### Arrays vs Lists"
   ]
  },
  {
   "cell_type": "code",
   "execution_count": null,
   "metadata": {},
   "outputs": [],
   "source": [
    "myList = [1, 2, 3, 5]\n",
    "arr = np.array([1, 2, 3, 5])\n",
    "print(arr)"
   ]
  },
  {
   "cell_type": "code",
   "execution_count": null,
   "metadata": {},
   "outputs": [],
   "source": [
    "print(myList[0])\n",
    "print(arr[0])\n",
    "print(arr[2:])"
   ]
  },
  {
   "cell_type": "markdown",
   "metadata": {},
   "source": [
    "* Arrays are homogeneous (i.e., all elements must be of the same type)\n",
    "* Lists can contain data of multiple types."
   ]
  },
  {
   "cell_type": "code",
   "execution_count": null,
   "metadata": {},
   "outputs": [],
   "source": [
    "myList[-1] = 'adding a string'\n",
    "print(myList)"
   ]
  },
  {
   "cell_type": "code",
   "execution_count": null,
   "metadata": {},
   "outputs": [],
   "source": [
    "arr[-1] = 'adding a string'"
   ]
  },
  {
   "cell_type": "code",
   "execution_count": null,
   "metadata": {},
   "outputs": [],
   "source": [
    "# Array creation of ones\n",
    "b = np.ones((3,2))\n",
    "print(b)\n",
    "print(b.shape)\n",
    "\n",
    "# array creation of zeros\n",
    "c = np.zeros((1,3), int)\n",
    "print(c)\n",
    "print(type(c))\n",
    "print(c.dtype)\n",
    "\n",
    "# can also create for complex numbers"
   ]
  },
  {
   "cell_type": "code",
   "execution_count": null,
   "metadata": {},
   "outputs": [],
   "source": [
    "x = np.linspace(-5, 5, 11)\n",
    "print(x)"
   ]
  },
  {
   "cell_type": "code",
   "execution_count": null,
   "metadata": {},
   "outputs": [],
   "source": [
    "x = np.arange(-5, 5, 1, float)\n",
    "print(x)\n",
    "x[2] = 1\n",
    "print(x)"
   ]
  },
  {
   "cell_type": "markdown",
   "metadata": {},
   "source": [
    "### Performance\n",
    "\n",
    "---"
   ]
  },
  {
   "cell_type": "code",
   "execution_count": null,
   "metadata": {},
   "outputs": [],
   "source": [
    "x = range(50000)\n",
    "y = np.arange(50000)\n",
    "\n",
    "%timeit [e**2  for e in x]\n",
    "%timeit y**2"
   ]
  },
  {
   "cell_type": "markdown",
   "metadata": {},
   "source": [
    "### Array Manipulation\n",
    "\n",
    "---"
   ]
  },
  {
   "cell_type": "code",
   "execution_count": null,
   "metadata": {},
   "outputs": [],
   "source": [
    "x = 100*np.random.random((3,4))\n",
    "print(x)\n",
    "x[x > 50] = 0\n",
    "print(x)"
   ]
  },
  {
   "cell_type": "code",
   "execution_count": null,
   "metadata": {},
   "outputs": [],
   "source": [
    "a = np.array([0, 1.2, 4, -9.1, 5, 8])\n",
    "a.shape = (2,3) # turn a into a 2x3 matrix\n",
    "print(a)\n",
    "a.shape = (a.size,) # turn a into a vector of length 6 again\n",
    "print(a)\n",
    "a = a.reshape(2,3) # same effect as setting a.shape\n",
    "print(a)"
   ]
  },
  {
   "cell_type": "markdown",
   "metadata": {},
   "source": [
    "Slices Refer the Array Data\n",
    "* With a as list, a[:] makes a copy of the data\n",
    "* With a as array, a[:] is a reference to the data"
   ]
  },
  {
   "cell_type": "code",
   "execution_count": null,
   "metadata": {},
   "outputs": [],
   "source": [
    "a = np.linspace(0, 29, 30)\n",
    "a.shape = (5,6)\n",
    "print(a)\n",
    "# Take a copy to avoid referencing via slices:\n",
    "b = a[1,:].copy()\n",
    "b[1] = 7777.     # b and a are two different arrays now\n",
    "print(b)"
   ]
  },
  {
   "cell_type": "code",
   "execution_count": null,
   "metadata": {},
   "outputs": [],
   "source": [
    "b = 3*a - 1 # actually creates a temporary array before storing in b"
   ]
  },
  {
   "cell_type": "code",
   "execution_count": null,
   "metadata": {},
   "outputs": [],
   "source": [
    "b"
   ]
  },
  {
   "cell_type": "code",
   "execution_count": null,
   "metadata": {},
   "outputs": [],
   "source": [
    "b = a\n",
    "b *= 3\n",
    "b -= 1\n",
    "\n",
    "# doesn't create a temporary array (called in-place operations)"
   ]
  },
  {
   "cell_type": "code",
   "execution_count": null,
   "metadata": {},
   "outputs": [],
   "source": [
    "b"
   ]
  },
  {
   "cell_type": "markdown",
   "metadata": {},
   "source": [
    "### Matrices"
   ]
  },
  {
   "cell_type": "code",
   "execution_count": null,
   "metadata": {},
   "outputs": [],
   "source": [
    "x = np.arange(-5, 5, 1, float)\n",
    "x1 = np.array([1, 2, 3], float)\n",
    "x2 = np.matrix(x)               # or just mat(x)\n",
    "print(x2)                        # row vector"
   ]
  },
  {
   "cell_type": "code",
   "execution_count": null,
   "metadata": {},
   "outputs": [],
   "source": [
    "x3 = np.mat(x).transpose()          # column vector\n",
    "print(x3)\n",
    "type(x3)"
   ]
  },
  {
   "cell_type": "markdown",
   "metadata": {},
   "source": [
    "### Universal Functions and Loops"
   ]
  },
  {
   "cell_type": "markdown",
   "metadata": {},
   "source": [
    "Universal functions run much faster than for loops, which should be avoided whenever possible"
   ]
  },
  {
   "cell_type": "code",
   "execution_count": null,
   "metadata": {},
   "outputs": [],
   "source": [
    "def mult1(a,b):\n",
    "    return a * b\n",
    "\n",
    "def mult2(a,b):\n",
    "    c = np.empty(a.shape)\n",
    "    for i in range(a.shape[0]):\n",
    "        for j in range(a.shape[1]):\n",
    "            c[i,j] = a[i,j] * b[i,j]\n",
    "    return c"
   ]
  },
  {
   "cell_type": "code",
   "execution_count": null,
   "metadata": {},
   "outputs": [],
   "source": [
    "a = np.random.random((800,800))\n",
    "b = np.random.random((800,800))"
   ]
  },
  {
   "cell_type": "code",
   "execution_count": null,
   "metadata": {},
   "outputs": [],
   "source": [
    "timeit mult1(a,b)"
   ]
  },
  {
   "cell_type": "code",
   "execution_count": null,
   "metadata": {},
   "outputs": [],
   "source": [
    "timeit mult2(a,b)"
   ]
  },
  {
   "cell_type": "markdown",
   "metadata": {},
   "source": [
    "_Note:_ You can read and write numpy arrays to files/disk. Use binary for more compact storage and to retain precision."
   ]
  }
 ],
 "metadata": {
  "kernelspec": {
   "display_name": "Python 3",
   "language": "python",
   "name": "python3"
  },
  "language_info": {
   "codemirror_mode": {
    "name": "ipython",
    "version": 3
   },
   "file_extension": ".py",
   "mimetype": "text/x-python",
   "name": "python",
   "nbconvert_exporter": "python",
   "pygments_lexer": "ipython3",
   "version": "3.6.5"
  }
 },
 "nbformat": 4,
 "nbformat_minor": 2
}
