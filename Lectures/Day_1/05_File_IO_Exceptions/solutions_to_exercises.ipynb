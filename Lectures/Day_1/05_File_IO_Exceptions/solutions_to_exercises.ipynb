{
 "cells": [
  {
   "cell_type": "markdown",
   "metadata": {},
   "source": [
    "<font color='blue'>Exercise</font>:\n",
    "Read the text file macbeth.txt and count the number of lines *excluding* empty lines."
   ]
  },
  {
   "cell_type": "code",
   "execution_count": 1,
   "metadata": {},
   "outputs": [
    {
     "data": {
      "text/plain": [
       "3237"
      ]
     },
     "execution_count": 1,
     "metadata": {},
     "output_type": "execute_result"
    }
   ],
   "source": [
    "file_object = open('macbeth.txt', 'r')\n",
    "count = 0\n",
    "for line in file_object:\n",
    "    # add code here\n",
    "    if line.startswith('\\n'):\n",
    "        continue\n",
    "    count += 1\n",
    "file_object.close()\n",
    "count"
   ]
  },
  {
   "cell_type": "code",
   "execution_count": 2,
   "metadata": {},
   "outputs": [
    {
     "name": "stdout",
     "output_type": "stream",
     "text": [
      "3237\r\n"
     ]
    }
   ],
   "source": [
    "!grep -c \"[^[:space:]]\" macbeth.txt"
   ]
  },
  {
   "cell_type": "markdown",
   "metadata": {},
   "source": [
    "<font color='blue'>Exercise</font>:\n",
    "Create a variables called my_list that contains the squared numbers from 1 to 10. Create a file object, my_file, and  write to each each value from the list. Make sure to add a newline (\"\\n\") after each element to ensure each will appear on its own line. "
   ]
  },
  {
   "cell_type": "markdown",
   "metadata": {},
   "source": [
    "```cython\n",
    "my_list = list()\n",
    "for i in range(1,11):\n",
    "    # append to my_list here:\n",
    "    \n",
    "print(my_list)\n",
    "```"
   ]
  },
  {
   "cell_type": "code",
   "execution_count": 3,
   "metadata": {},
   "outputs": [
    {
     "name": "stdout",
     "output_type": "stream",
     "text": [
      "[1, 4, 9, 16, 25, 36, 49, 64, 81, 100]\n"
     ]
    }
   ],
   "source": [
    "my_list = list()\n",
    "for i in range(1,11):\n",
    "    # append to my_list here:\n",
    "    my_list.append(i**2)\n",
    "print(my_list)\n",
    "with open ('output.txt', 'w+') as my_file:\n",
    "    for n in my_list:\n",
    "        my_file.write(str(n)+'\\n')"
   ]
  },
  {
   "cell_type": "code",
   "execution_count": 4,
   "metadata": {},
   "outputs": [
    {
     "name": "stdout",
     "output_type": "stream",
     "text": [
      "1\r\n",
      "4\r\n",
      "9\r\n",
      "16\r\n",
      "25\r\n",
      "36\r\n",
      "49\r\n",
      "64\r\n",
      "81\r\n",
      "100\r\n"
     ]
    }
   ],
   "source": [
    "!cat output.txt"
   ]
  },
  {
   "cell_type": "markdown",
   "metadata": {},
   "source": [
    "<font color='blue'>Exercise</font>:\n",
    "What was the *average* grade of exam 1? (Ans. 64.9)"
   ]
  },
  {
   "cell_type": "code",
   "execution_count": 5,
   "metadata": {},
   "outputs": [
    {
     "name": "stdout",
     "output_type": "stream",
     "text": [
      "64.92307692307692\n"
     ]
    }
   ],
   "source": [
    "sum_grades = 0\n",
    "num = 0\n",
    "with open('grades.csv', 'r') as f:\n",
    "    for line in f:\n",
    "    # add code here\n",
    "        if '#' in line:\n",
    "            continue\n",
    "        sum_grades = sum_grades + int(line.split(',')[1])\n",
    "        num += 1\n",
    "print(sum_grades/num)"
   ]
  },
  {
   "cell_type": "markdown",
   "metadata": {},
   "source": [
    "<font color='blue'>Exercise</font>:\n",
    "\n",
    "Add a try-except block to the follwing code, i.e. instead of performing checks (using 'if') before we do something, we just do it – and if an error does occur we handle it."
   ]
  },
  {
   "cell_type": "code",
   "execution_count": null,
   "metadata": {},
   "outputs": [],
   "source": [
    "n = None\n",
    "while n is None:\n",
    "    s = input(\"Please enter an integer: \")\n",
    "    if s.isdigit():\n",
    "        n = int(s)\n",
    "    else:\n",
    "        print(\"%s is not an integer.\" % s)"
   ]
  },
  {
   "cell_type": "code",
   "execution_count": null,
   "metadata": {},
   "outputs": [],
   "source": []
  }
 ],
 "metadata": {
  "anaconda-cloud": {},
  "celltoolbar": "Raw Cell Format",
  "kernelspec": {
   "display_name": "Python 3",
   "language": "python",
   "name": "python3"
  },
  "language_info": {
   "codemirror_mode": {
    "name": "ipython",
    "version": 3
   },
   "file_extension": ".py",
   "mimetype": "text/x-python",
   "name": "python",
   "nbconvert_exporter": "python",
   "pygments_lexer": "ipython3",
   "version": "3.6.3"
  }
 },
 "nbformat": 4,
 "nbformat_minor": 1
}
