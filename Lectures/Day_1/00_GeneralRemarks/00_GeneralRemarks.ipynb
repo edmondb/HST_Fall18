{
 "cells": [
  {
   "cell_type": "markdown",
   "metadata": {
    "slideshow": {
     "slide_type": "slide"
    }
   },
   "source": [
    "![NASA](http://www.nasa.gov/sites/all/themes/custom/nasatwo/images/nasa-logo.svg)\n",
    "\n",
    "![SSAI](http://www.ssaihq.com/images/Logo-with-Company-Name-and-Slogan.png)\n",
    "\n",
    "<center><h1><font size=\"+3\">Fall 2018 Python Training</font></h1></center>\n",
    "\n",
    "---\n",
    "\n",
    "<center><h4>Langley Research Center - August 21, 2018</h4></center>"
   ]
  },
  {
   "cell_type": "markdown",
   "metadata": {
    "slideshow": {
     "slide_type": "slide"
    }
   },
   "source": [
    "# Who Are We?\n",
    "\n",
    "---\n",
    "\n",
    "* Carlos A. Cruz (Computational Scientist, Occasional Python User)\n",
    "* Jules Kouatchou (Computational Scientist, Occasional Python User) - online for questions via email\n",
    "* E. Brent Smith (Programmer and Scientist, Daily Python User)"
   ]
  },
  {
   "cell_type": "markdown",
   "metadata": {
    "slideshow": {
     "slide_type": "subslide"
    }
   },
   "source": [
    "# Training Objectives\n",
    "\n",
    "---\n",
    "\n",
    "* Day 1: Beginner\n",
    "  * Using the Python Interpreter\n",
    "  * Manipulate Data Structures (list, tuple, arrays, etc.)\n",
    "  * Introduction to Object-Oriented Programming\n",
    "* Day 2: Intermediate\n",
    "  * Work with Visualizations\n",
    "  * Basic Numerical Data Analysis\n",
    "  * Use Python for Scientific or Engineering Applications\n",
    "  \n",
    "# Agenda\n",
    "\n",
    "---\n",
    "\n",
    "You can find the agenda for this training at:\n",
    "\n",
    "[http://github.com/edmondb/LRC_Fall18/wiki](http://github.com/edmondb/LRC_Spring17/wiki)\n",
    "\n",
    "Beyond these topics are a few items that will not be covered, but are worth looking at:\n",
    "\n",
    "* Strings\n",
    "* The `xlrd` Module\n",
    "* F2Py (Fortran to Python)"
   ]
  },
  {
   "cell_type": "markdown",
   "metadata": {
    "slideshow": {
     "slide_type": "subslide"
    }
   },
   "source": [
    "# What we expect from you\n",
    "\n",
    "---\n",
    "\n",
    "* Have your own laptop\n",
    "* Have the Python distribution (Anaconda) on your platform _(let us know now if you don't)_\n",
    "* Have installed Git _(let us know now if you don't)_\n",
    "* Be able to create/edit files on your platform\n",
    "* Be able to change directories from a terminal/command prompt\n",
    "* Do the examples yourself as we move along\n",
    "* __Ask Questions__"
   ]
  },
  {
   "cell_type": "markdown",
   "metadata": {
    "slideshow": {
     "slide_type": "subslide"
    }
   },
   "source": [
    "# Self-Assessment\n",
    "\n",
    "---\n",
    "\n",
    "At the end of Day 1, you might consider taking a 25-question test at:\n",
    "\n",
    "[http://www.afterhoursprogramming.com/tests/practice/Python/](http://www.afterhoursprogramming.com/tests/practice/Python/)"
   ]
  },
  {
   "cell_type": "markdown",
   "metadata": {
    "slideshow": {
     "slide_type": "subslide"
    }
   },
   "source": [
    "# General Resources\n",
    "\n",
    "---\n",
    "\n",
    "* Official Website  \n",
    "  [http://www.python.org](http://www.python.org)\n",
    "* Official Documentation (Python 3.x)  \n",
    "  [http://docs.python.org/2/](http://docs.python.org/3/)\n",
    "* Quick Reference  \n",
    "  [http://learnxinyminutes.com/docs/python/](http://learnxinyminutes.com/docs/python/)\n",
    "* PyVideo  \n",
    "  [http://pyvideo.org](http://pyvideo.org)\n",
    "* PyCon 2018  \n",
    "  [http://us.pycon.org/2018/](http://us.pycon.org/2018/)\n",
    "* Python Software Foundation  \n",
    "  [http://www.python.org/psf-landing/](http://www.python.org/psf-landing/)"
   ]
  },
  {
   "cell_type": "code",
   "execution_count": null,
   "metadata": {},
   "outputs": [],
   "source": []
  }
 ],
 "metadata": {
  "celltoolbar": "Slideshow",
  "kernelspec": {
   "display_name": "Python 3",
   "language": "python",
   "name": "python3"
  },
  "language_info": {
   "codemirror_mode": {
    "name": "ipython",
    "version": 3
   },
   "file_extension": ".py",
   "mimetype": "text/x-python",
   "name": "python",
   "nbconvert_exporter": "python",
   "pygments_lexer": "ipython3",
   "version": "3.6.5"
  }
 },
 "nbformat": 4,
 "nbformat_minor": 2
}
