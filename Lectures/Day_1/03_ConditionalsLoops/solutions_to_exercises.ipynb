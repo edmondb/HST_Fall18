{
 "cells": [
  {
   "cell_type": "markdown",
   "metadata": {},
   "source": [
    "<font color='red'>Exercise</font>: What is the result of evaluating the following expressions:\n",
    "```cython\n",
    "1 and 1\n",
    "0 and \"test\"\n",
    "False or 1\n",
    "True and 10 or not 0\n",
    "```"
   ]
  },
  {
   "cell_type": "code",
   "execution_count": 8,
   "metadata": {},
   "outputs": [
    {
     "name": "stdout",
     "output_type": "stream",
     "text": [
      "True\n",
      "False\n",
      "True\n",
      "False\n"
     ]
    }
   ],
   "source": [
    "print(bool(1 and 1))\n",
    "print(bool(0 and \"test\"))\n",
    "print(bool(False or 1))\n",
    "print(bool(True and 0 or not 1))"
   ]
  },
  {
   "cell_type": "markdown",
   "metadata": {},
   "source": [
    "<font color='red'>Exercise</font>: What is the output of the following program:\n",
    "```cython\n",
    "x=3\n",
    "y=8\n",
    "z=5\n",
    "r=1.0\n",
    "if x < y > z < r:\n",
    "    print('T')\n",
    "else:\n",
    "    print('F')\n",
    "```\n",
    "Note: The comparison is performed between each pair of terms to be evaluated. "
   ]
  },
  {
   "cell_type": "code",
   "execution_count": 3,
   "metadata": {},
   "outputs": [
    {
     "name": "stdout",
     "output_type": "stream",
     "text": [
      "F\n"
     ]
    }
   ],
   "source": [
    "x=3\n",
    "y=8\n",
    "z=5\n",
    "r=1.0\n",
    "if x < y > z < r:\n",
    "    print('T')\n",
    "else:\n",
    "    print('F')"
   ]
  },
  {
   "cell_type": "markdown",
   "metadata": {},
   "source": [
    "<font color='red'>Exercise</font>: Write a program that examines 3 variables (x,y,z below) and prints the smallest among them."
   ]
  },
  {
   "cell_type": "code",
   "execution_count": 9,
   "metadata": {},
   "outputs": [
    {
     "name": "stdout",
     "output_type": "stream",
     "text": [
      "2\n"
     ]
    }
   ],
   "source": [
    "x=1.9999999999999999\n",
    "y=2\n",
    "z=5\n",
    "\n",
    "my_min = 0\n",
    "# Write code here:\n",
    "if x < y and x < z:\n",
    "    my_min = x\n",
    "else:\n",
    "    if y < z:\n",
    "        my_min = y\n",
    "    else:\n",
    "        my_min = z\n",
    "\n",
    "print(my_min)\n",
    "\n",
    "# Note that single-precision is 10^-15. Try x=1.9999999999999."
   ]
  },
  {
   "cell_type": "code",
   "execution_count": 10,
   "metadata": {},
   "outputs": [
    {
     "name": "stdout",
     "output_type": "stream",
     "text": [
      "2\n"
     ]
    }
   ],
   "source": [
    "# Alternative with a user-defined function\n",
    "\n",
    "def min_of_two( x, y ):\n",
    "    if x < y:\n",
    "        return x\n",
    "    return y\n",
    "print(min_of_two( x, min_of_two( y, z )))"
   ]
  },
  {
   "cell_type": "code",
   "execution_count": 11,
   "metadata": {},
   "outputs": [
    {
     "name": "stdout",
     "output_type": "stream",
     "text": [
      "2.0\n"
     ]
    }
   ],
   "source": [
    "# Of course you should use\n",
    "\n",
    "print(min(x,y,z))"
   ]
  },
  {
   "cell_type": "markdown",
   "metadata": {
    "collapsed": true
   },
   "source": [
    "<font color='red'>Exercise</font>: Use loops to print the following sequence:\n",
    "```cython\n",
    "1\n",
    "22\n",
    "333\n",
    "4444\n",
    "55555\n",
    "666666\n",
    "7777777\n",
    "88888888\n",
    "999999999\n",
    "```"
   ]
  },
  {
   "cell_type": "code",
   "execution_count": 12,
   "metadata": {},
   "outputs": [
    {
     "name": "stdout",
     "output_type": "stream",
     "text": [
      "1\n",
      "22\n",
      "333\n",
      "4444\n",
      "55555\n",
      "666666\n",
      "7777777\n",
      "88888888\n",
      "999999999\n"
     ]
    }
   ],
   "source": [
    "for i in range(1,10):\n",
    "    print(i*str(i))"
   ]
  }
 ],
 "metadata": {
  "anaconda-cloud": {},
  "kernelspec": {
   "display_name": "Python 3",
   "language": "python",
   "name": "python3"
  },
  "language_info": {
   "codemirror_mode": {
    "name": "ipython",
    "version": 3
   },
   "file_extension": ".py",
   "mimetype": "text/x-python",
   "name": "python",
   "nbconvert_exporter": "python",
   "pygments_lexer": "ipython3",
   "version": "3.6.3"
  }
 },
 "nbformat": 4,
 "nbformat_minor": 1
}
