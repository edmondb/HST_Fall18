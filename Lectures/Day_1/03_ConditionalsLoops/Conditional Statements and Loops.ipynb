{
 "cells": [
  {
   "cell_type": "code",
   "execution_count": null,
   "metadata": {
    "slideshow": {
     "slide_type": "skip"
    }
   },
   "outputs": [],
   "source": [
    "from IPython.core.interactiveshell import InteractiveShell\n",
    "InteractiveShell.ast_node_interactivity = \"all\""
   ]
  },
  {
   "cell_type": "markdown",
   "metadata": {
    "slideshow": {
     "slide_type": "slide"
    }
   },
   "source": [
    "![NASA](http://www.nasa.gov/sites/all/themes/custom/nasatwo/images/nasa-logo.svg)\n",
    "\n",
    "![SSAI](http://www.ssaihq.com/images/Logo-with-Company-Name-and-Slogan.png)\n",
    "\n",
    "<center><h1><font size=\"+3\">Fall 2018 Python Training</font></h1></center>\n",
    "\n",
    "---\n",
    "\n",
    "<center><h4>Langley Research Center - August 21, 2018</h4></center>"
   ]
  },
  {
   "cell_type": "markdown",
   "metadata": {
    "slideshow": {
     "slide_type": "slide"
    }
   },
   "source": [
    "# Control flow"
   ]
  },
  {
   "cell_type": "markdown",
   "metadata": {
    "scrolled": true,
    "slideshow": {
     "slide_type": "subslide"
    }
   },
   "source": [
    "![decisions](program_flow.jpg)\n",
    "Programs must have some mechanism to manage how and when instructions are executed.\n",
    "Python has three __control flow__ structures:\n",
    "* if\n",
    "* for\n",
    "* while\n"
   ]
  },
  {
   "cell_type": "markdown",
   "metadata": {
    "slideshow": {
     "slide_type": "slide"
    }
   },
   "source": [
    "## Logical operators\n",
    "\n",
    "__Logical operators__ are used to __compare__ logical expressions."
   ]
  },
  {
   "cell_type": "markdown",
   "metadata": {
    "slideshow": {
     "slide_type": "fragment"
    }
   },
   "source": [
    "<table border=\"2\" width=\"0\" align=\"left\">\n",
    "    <tr>\n",
    "    \t<td align=\"right\">Operator</td><td align=\"left\">Meaning</td>\n",
    "    </tr>\n",
    "    <tr>\n",
    "    \t<td align=\"right\">==</td><td align=\"left\">Equal to</td>\n",
    "    </tr>\n",
    "    <tr>\n",
    "    \t<td align=\"right\">!=</td><td align=\"left\">Not equal to</td>\n",
    "    </tr>\n",
    "    <tr>\n",
    "    \t<td align=\"right\"> < </td><td align=\"left\">Less than</td>\n",
    "    </tr>\n",
    "    <tr>\n",
    "    \t<td align=\"right\"> <= </td><td align=\"left\">Less than or equal to</td>\n",
    "    </tr>\n",
    "    <tr>\n",
    "    \t<td align=\"right\"> > </td><td align=\"left\">Greater than</td>\n",
    "    </tr>\n",
    "    <tr>\n",
    "    \t<td align=\"right\"> >= </td><td align=\"left\">Greater than or equal to</td>\n",
    "    </tr>\n",
    "    </table>"
   ]
  },
  {
   "cell_type": "markdown",
   "metadata": {
    "slideshow": {
     "slide_type": "slide"
    }
   },
   "source": [
    "\n",
    "# Logical expressions:\n"
   ]
  },
  {
   "cell_type": "code",
   "execution_count": null,
   "metadata": {
    "slideshow": {
     "slide_type": "fragment"
    }
   },
   "outputs": [],
   "source": [
    "x = 2    # Note '=' is the assignment operator\n",
    "x == 3   # is x equal to 3\n",
    "x < 4    # is x less than 4"
   ]
  },
  {
   "cell_type": "markdown",
   "metadata": {
    "slideshow": {
     "slide_type": "slide"
    }
   },
   "source": [
    "## Boolean types\n",
    "\n",
    "Logical expression evaluate to either <font color='blue'>True</font> or <font color='blue'>False</font>. "
   ]
  },
  {
   "cell_type": "code",
   "execution_count": null,
   "metadata": {
    "slideshow": {
     "slide_type": "fragment"
    }
   },
   "outputs": [],
   "source": [
    "print(type(x<4))"
   ]
  },
  {
   "cell_type": "code",
   "execution_count": null,
   "metadata": {
    "slideshow": {
     "slide_type": "fragment"
    }
   },
   "outputs": [],
   "source": [
    "print(type(True))\n",
    "print(type(False))"
   ]
  },
  {
   "cell_type": "markdown",
   "metadata": {
    "slideshow": {
     "slide_type": "slide"
    }
   },
   "source": [
    "__Boolean Operators__\n",
    "```cython\n",
    "and           \n",
    "or\n",
    "not\n",
    "```"
   ]
  },
  {
   "cell_type": "code",
   "execution_count": null,
   "metadata": {
    "slideshow": {
     "slide_type": "fragment"
    }
   },
   "outputs": [],
   "source": [
    "True and False"
   ]
  },
  {
   "cell_type": "code",
   "execution_count": null,
   "metadata": {
    "slideshow": {
     "slide_type": "fragment"
    }
   },
   "outputs": [],
   "source": [
    "print(True or False)\n",
    "print(not True)\n",
    "print(True and not False)"
   ]
  },
  {
   "cell_type": "markdown",
   "metadata": {
    "slideshow": {
     "slide_type": "slide"
    }
   },
   "source": [
    "__Membership operators__\n",
    "```cython\n",
    "in\n",
    "not in\n",
    "```\n",
    "__Identity operators__\n",
    "```cython\n",
    "is\n",
    "is not\n",
    "```"
   ]
  },
  {
   "cell_type": "code",
   "execution_count": null,
   "metadata": {
    "slideshow": {
     "slide_type": "fragment"
    }
   },
   "outputs": [],
   "source": [
    "'n' in 'Python'"
   ]
  },
  {
   "cell_type": "code",
   "execution_count": null,
   "metadata": {
    "slideshow": {
     "slide_type": "fragment"
    }
   },
   "outputs": [],
   "source": [
    "x = 5.2\n",
    "type(x) is int"
   ]
  },
  {
   "cell_type": "markdown",
   "metadata": {
    "slideshow": {
     "slide_type": "slide"
    }
   },
   "source": [
    "__Operator precedence__ (left-to-right)\n",
    "\n",
    "    ** (exponentiation)\n",
    "    *, /, %   (multiplication, division, modulo)\n",
    "    +, -   (addition, subtraction)\n",
    "    <, >, <=, >=, !=, == (comparison)\n",
    "    is, is not  (comparison)\n",
    "    in, not in  (comparison)\n",
    "    not, and, or  (boolean)"
   ]
  },
  {
   "cell_type": "code",
   "execution_count": null,
   "metadata": {
    "slideshow": {
     "slide_type": "fragment"
    }
   },
   "outputs": [],
   "source": [
    "10 < 0 and not 10 > 2"
   ]
  },
  {
   "cell_type": "code",
   "execution_count": null,
   "metadata": {
    "slideshow": {
     "slide_type": "fragment"
    }
   },
   "outputs": [],
   "source": [
    "not (10 < 0 or 10 > 20)"
   ]
  },
  {
   "cell_type": "markdown",
   "metadata": {
    "slideshow": {
     "slide_type": "slide"
    }
   },
   "source": [
    "__In Python every object has a boolean value__."
   ]
  },
  {
   "cell_type": "code",
   "execution_count": null,
   "metadata": {
    "slideshow": {
     "slide_type": "fragment"
    }
   },
   "outputs": [],
   "source": [
    "print('\"Hello\" evaluates to {}'.format(bool(\"Hello\")))\n",
    "print('\"\" evaluates to {}'.format(bool(\"\")))\n",
    "print('\"test\" and \"test\" evaluates to {}'.format(bool(\"test\" and \"test\")))\n",
    "print('2018 evaluates to {}'.format(bool(2018)))\n",
    "print('0 evaluates to {}'.format(bool(0)))"
   ]
  },
  {
   "cell_type": "markdown",
   "metadata": {
    "slideshow": {
     "slide_type": "fragment"
    }
   },
   "source": [
    "__All integers evaluate to True, except 0 which evaluates to False__  \n",
    "\n",
    "__All strings evaluate to True, except the empty string__"
   ]
  },
  {
   "cell_type": "markdown",
   "metadata": {
    "slideshow": {
     "slide_type": "slide"
    }
   },
   "source": [
    "<font color='red'>Exercise</font>: What is the result of evaluating the following expressions:\n",
    "```cython\n",
    "1 and 1\n",
    "0 and \"test\"\n",
    "False or 1\n",
    "True and 10 or not 0\n",
    "```"
   ]
  },
  {
   "cell_type": "markdown",
   "metadata": {
    "slideshow": {
     "slide_type": "slide"
    }
   },
   "source": [
    "## If-Then-Else\n",
    "\n",
    "If statement is a __selection control statement__ based on the value of a logical expression"
   ]
  },
  {
   "cell_type": "markdown",
   "metadata": {
    "collapsed": true,
    "slideshow": {
     "slide_type": "slide"
    }
   },
   "source": [
    "Unary selection\n",
    "\n",
    "```cython\n",
    "if condition:                                      # HEADER\n",
    "    Python code that runs iff condition is True    # CLAUSE\n",
    "    Proper indentation is critical    \n",
    "```"
   ]
  },
  {
   "cell_type": "code",
   "execution_count": null,
   "metadata": {
    "slideshow": {
     "slide_type": "fragment"
    }
   },
   "outputs": [],
   "source": [
    "y = -2\n",
    "a = y < 1\n",
    "if a:\n",
    "    print ('a is non-zero')"
   ]
  },
  {
   "cell_type": "markdown",
   "metadata": {
    "collapsed": true,
    "slideshow": {
     "slide_type": "slide"
    }
   },
   "source": [
    "Binary selection\n",
    "\n",
    "```cython\n",
    "if condition:\n",
    "    Python code that runs iff condition is True \n",
    "else:\n",
    "    Python code that runs iff condition is False \n",
    "    ...again, indentation is important\n",
    "```"
   ]
  },
  {
   "cell_type": "code",
   "execution_count": null,
   "metadata": {
    "slideshow": {
     "slide_type": "fragment"
    }
   },
   "outputs": [],
   "source": [
    "n = int(input('Enter a number: '))\n",
    "if n % 2 == 0:\n",
    "    print (\"Number is even\")\n",
    "else:\n",
    "    print (\"Number is odd\")\n",
    "print (\"Done\")"
   ]
  },
  {
   "cell_type": "markdown",
   "metadata": {
    "slideshow": {
     "slide_type": "slide"
    }
   },
   "source": [
    "<font color='red'>Exercise</font>: What is the output of the following program:\n",
    "```cython\n",
    "x=3\n",
    "y=8\n",
    "z=5\n",
    "r=1.0\n",
    "if x < y > z < r:\n",
    "    print('T')\n",
    "else:\n",
    "    print('F')\n",
    "```\n",
    "Note: The comparison is performed between each pair of terms to be evaluated. "
   ]
  },
  {
   "cell_type": "markdown",
   "metadata": {
    "slideshow": {
     "slide_type": "slide"
    }
   },
   "source": [
    "#### Chained if statements"
   ]
  },
  {
   "cell_type": "markdown",
   "metadata": {
    "collapsed": true,
    "slideshow": {
     "slide_type": "fragment"
    }
   },
   "source": [
    "```cython\n",
    "if condition1:\n",
    "    Python code that runs iff condition1 is True \n",
    "elif condition2:\n",
    "    Python code that runs iff condition2 is True\n",
    "elif condition3:\n",
    "    Python code that runs iff condition3 is True\n",
    "else:\n",
    "    Python code that runs iff conditions 1-3 are False\n",
    "```"
   ]
  },
  {
   "cell_type": "code",
   "execution_count": null,
   "metadata": {
    "slideshow": {
     "slide_type": "fragment"
    }
   },
   "outputs": [],
   "source": [
    "n = int(input('Enter a number: '))\n",
    "if n < 0:\n",
    "    print ('n is negative')\n",
    "elif n > 0:\n",
    "    print ('n is positive')\n",
    "else:\n",
    "    print ('n is zero')"
   ]
  },
  {
   "cell_type": "markdown",
   "metadata": {
    "collapsed": true,
    "slideshow": {
     "slide_type": "slide"
    }
   },
   "source": [
    "Nested if statements\n",
    "```cython\n",
    "if condition1:\n",
    "    Python code that runs iff condition1 is True\n",
    "else:\n",
    "    Python code that runs iff condition1 is False\n",
    "    if condition2:\n",
    "        Python code that runs iff condition2 is True\n",
    "    else:\n",
    "        Python code that runs iff condition2 is False\n",
    "```"
   ]
  },
  {
   "cell_type": "code",
   "execution_count": null,
   "metadata": {
    "slideshow": {
     "slide_type": "fragment"
    }
   },
   "outputs": [],
   "source": [
    "n = int(input('Enter a number: '))\n",
    "if n > 0:\n",
    "    print ('n is positive')\n",
    "    if n % 2 == 0:\n",
    "        print ('...and also even')\n",
    "    else:\n",
    "        print ('...and also odd')\n",
    "else:\n",
    "    if n == 0:\n",
    "        print ('n is zero')\n",
    "    else:\n",
    "        print ('n is negative')"
   ]
  },
  {
   "cell_type": "markdown",
   "metadata": {
    "slideshow": {
     "slide_type": "slide"
    }
   },
   "source": [
    "<font color='red'>Exercise</font>: Write a program that examines 3 variables (x,y,z) below and prints the smallest among them."
   ]
  },
  {
   "cell_type": "markdown",
   "metadata": {
    "slideshow": {
     "slide_type": "slide"
    }
   },
   "source": [
    "### While loop\n",
    "A while loop is similar to an if statement: it repeats an operation __while__ a condition is true. "
   ]
  },
  {
   "cell_type": "markdown",
   "metadata": {
    "collapsed": true,
    "slideshow": {
     "slide_type": "fragment"
    }
   },
   "source": [
    "```cython\n",
    "while condition:\n",
    "    # python code\n",
    "```"
   ]
  },
  {
   "cell_type": "markdown",
   "metadata": {
    "slideshow": {
     "slide_type": "fragment"
    }
   },
   "source": [
    "Beware: Whenever you write a while loop, think about an appropriate counting function. Else you can end up with an infinite loop."
   ]
  },
  {
   "cell_type": "code",
   "execution_count": null,
   "metadata": {
    "slideshow": {
     "slide_type": "fragment"
    }
   },
   "outputs": [],
   "source": [
    "sum = 0\n",
    "counter = 1\n",
    "n = 5\n",
    "while counter <= n:\n",
    "    print ('{} '.format(counter), end='') # end='' suppresses the newline character '\\n'\n",
    "    sum = sum + counter\n",
    "    counter += 1                # counter += 1\n",
    "\n",
    "print ('\\nsum = ',sum)"
   ]
  },
  {
   "cell_type": "markdown",
   "metadata": {
    "slideshow": {
     "slide_type": "slide"
    }
   },
   "source": [
    "#### <font color='blue'>break</font> statement"
   ]
  },
  {
   "cell_type": "code",
   "execution_count": null,
   "metadata": {
    "slideshow": {
     "slide_type": "fragment"
    }
   },
   "outputs": [],
   "source": [
    "# Example: Find the first positive integer divisible by both 11 AND 12\n",
    "\n",
    "x = 1\n",
    "while True:\n",
    "    if x % 11 == 0 and x % 12 == 0:\n",
    "        break\n",
    "    x = x + 1\n",
    "print (x,\" is divisible by 11 and 12\")"
   ]
  },
  {
   "cell_type": "markdown",
   "metadata": {
    "slideshow": {
     "slide_type": "slide"
    }
   },
   "source": [
    "## For loop\n",
    "A for loop can be used to simplify iterations over <font color='blue'>sequences</font>"
   ]
  },
  {
   "cell_type": "markdown",
   "metadata": {
    "scrolled": true,
    "slideshow": {
     "slide_type": "fragment"
    }
   },
   "source": [
    "```cython\n",
    "for variable in sequence:\n",
    "    # Python code\n",
    "```"
   ]
  },
  {
   "cell_type": "code",
   "execution_count": null,
   "metadata": {
    "slideshow": {
     "slide_type": "slide"
    }
   },
   "outputs": [],
   "source": [
    "# Iterate over a string\n",
    "\n",
    "for c in 'I love Python':\n",
    "    print(c)"
   ]
  },
  {
   "cell_type": "code",
   "execution_count": null,
   "metadata": {
    "slideshow": {
     "slide_type": "slide"
    }
   },
   "outputs": [],
   "source": [
    "# Iterate over a dictionary\n",
    "\n",
    "daily_temps = {'mon': 70.2, 'tue': 67.2, 'wed': 71.8, 'thur': 73.2, 'fri': 75.6}"
   ]
  },
  {
   "cell_type": "code",
   "execution_count": null,
   "metadata": {
    "slideshow": {
     "slide_type": "fragment"
    }
   },
   "outputs": [],
   "source": [
    "for day, temp in daily_temps.items():\n",
    "    print (day, temp)"
   ]
  },
  {
   "cell_type": "code",
   "execution_count": null,
   "metadata": {
    "slideshow": {
     "slide_type": "fragment"
    }
   },
   "outputs": [],
   "source": [
    "for day in daily_temps:\n",
    "    print (day)"
   ]
  },
  {
   "cell_type": "code",
   "execution_count": null,
   "metadata": {
    "slideshow": {
     "slide_type": "fragment"
    }
   },
   "outputs": [],
   "source": [
    "for day in daily_temps:\n",
    "    if day.startswith('w'):\n",
    "        print (daily_temps[day])"
   ]
  },
  {
   "cell_type": "code",
   "execution_count": null,
   "metadata": {
    "slideshow": {
     "slide_type": "slide"
    }
   },
   "outputs": [],
   "source": [
    "# Iterate over a range object (which is a sequence type)\n",
    "\n",
    "total = 0\n",
    "for i in range(0,6,2):\n",
    "    total = total + 1\n",
    "\n",
    "print(total)"
   ]
  },
  {
   "cell_type": "markdown",
   "metadata": {
    "slideshow": {
     "slide_type": "slide"
    }
   },
   "source": [
    "Use the keywords <font color='blue'>continue</font>, <font color='blue'>break</font>, or <font color='blue'>pass</font> to change the behavior of conditionals and loops."
   ]
  },
  {
   "cell_type": "code",
   "execution_count": null,
   "metadata": {
    "slideshow": {
     "slide_type": "fragment"
    }
   },
   "outputs": [],
   "source": [
    "total = 0\n",
    "\n",
    "for i in range(1,11):\n",
    "    if i == 3:\n",
    "        break           # Change different keywords - continue, break, or pass - to learn their behaviors\n",
    "    total += 1\n",
    "\n",
    "print('Total is ',total)"
   ]
  },
  {
   "cell_type": "markdown",
   "metadata": {
    "slideshow": {
     "slide_type": "fragment"
    }
   },
   "source": [
    "One can use multiple nested for loops:"
   ]
  },
  {
   "cell_type": "markdown",
   "metadata": {
    "collapsed": true,
    "slideshow": {
     "slide_type": "fragment"
    }
   },
   "source": [
    "```cython\n",
    "for var1 in seq1:\n",
    "    for var2 in seq2:    \n",
    "          # do something\n",
    "```"
   ]
  },
  {
   "cell_type": "markdown",
   "metadata": {
    "collapsed": true,
    "slideshow": {
     "slide_type": "slide"
    }
   },
   "source": [
    "<font color='red'>Exercise</font>: Use loops to print the following sequence:\n",
    "```cython\n",
    "1\n",
    "22\n",
    "333\n",
    "4444\n",
    "55555\n",
    "666666\n",
    "7777777\n",
    "88888888\n",
    "999999999\n",
    "```"
   ]
  },
  {
   "cell_type": "markdown",
   "metadata": {
    "slideshow": {
     "slide_type": "slide"
    }
   },
   "source": [
    "#### <font color='blue'>while-else</font>\n",
    "Similar to if-else:"
   ]
  },
  {
   "cell_type": "code",
   "execution_count": null,
   "metadata": {
    "slideshow": {
     "slide_type": "fragment"
    }
   },
   "outputs": [],
   "source": [
    "import random\n",
    "count = 0\n",
    "while count < 3:       # Execute while True\n",
    "    num = random.randint(1, 6)\n",
    "    print(num)\n",
    "    if num % 2 == 0:\n",
    "        print(\"You lose!\")\n",
    "        break          # If the loop exits as the result of a break, the else will not be executed.\n",
    "    count += 1\n",
    "else:                  # the else block will execute anytime the loop condition is evaluated to False. \n",
    "    print(\"You win!\")"
   ]
  },
  {
   "cell_type": "markdown",
   "metadata": {
    "slideshow": {
     "slide_type": "slide"
    }
   },
   "source": [
    "#### <font color='blue'>for-else</font>\n",
    "Similar to while-else:"
   ]
  },
  {
   "cell_type": "code",
   "execution_count": null,
   "metadata": {
    "scrolled": false,
    "slideshow": {
     "slide_type": "fragment"
    }
   },
   "outputs": [],
   "source": [
    "fruits = ['banana', 'apple', 'orange', 'mango', 'pear', 'grape']\n",
    "for f in fruits:\n",
    "    if f == 'carrot':\n",
    "        print ('A carrot is not a fruit!')\n",
    "        break\n",
    "    print (f)\n",
    "else:\n",
    "    print ('A fine selection of fruits!')"
   ]
  },
  {
   "cell_type": "markdown",
   "metadata": {
    "slideshow": {
     "slide_type": "slide"
    }
   },
   "source": [
    "#### <font color='blue'>enumerate</font>\n",
    "supplies corresponding index to each element in the list that you pass it."
   ]
  },
  {
   "cell_type": "code",
   "execution_count": null,
   "metadata": {
    "slideshow": {
     "slide_type": "fragment"
    }
   },
   "outputs": [],
   "source": [
    "choices = ['pizza', 'pasta', 'salad', 'nachos']\n",
    "for index, item in enumerate(choices):\n",
    "    print(index, item)"
   ]
  },
  {
   "cell_type": "markdown",
   "metadata": {
    "slideshow": {
     "slide_type": "slide"
    }
   },
   "source": [
    "#### <font color='blue'>zip</font>\n",
    "iterate over more than two lists"
   ]
  },
  {
   "cell_type": "code",
   "execution_count": null,
   "metadata": {
    "slideshow": {
     "slide_type": "fragment"
    }
   },
   "outputs": [],
   "source": [
    "list_a = [3, 9, 17, 15, 19]\n",
    "list_b = [2, 4, 8, 10, 30, 40, 50, 60, 70, 80, 90]\n",
    "for a, b in zip(list_a, list_b):\n",
    "    if a>b:\n",
    "        print(a)\n",
    "    else:\n",
    "        print(b)"
   ]
  }
 ],
 "metadata": {
  "anaconda-cloud": {},
  "celltoolbar": "Slideshow",
  "kernelspec": {
   "display_name": "Python 3",
   "language": "python",
   "name": "python3"
  },
  "language_info": {
   "codemirror_mode": {
    "name": "ipython",
    "version": 3
   },
   "file_extension": ".py",
   "mimetype": "text/x-python",
   "name": "python",
   "nbconvert_exporter": "python",
   "pygments_lexer": "ipython3",
   "version": "3.6.5"
  }
 },
 "nbformat": 4,
 "nbformat_minor": 1
}
